{
 "cells": [
  {
   "cell_type": "code",
   "execution_count": 1,
   "metadata": {},
   "outputs": [
    {
     "name": "stdout",
     "output_type": "stream",
     "text": [
      "Array bat_names:  [['\"BLANK\"' '\"HOUSE_KEYS\"' '\"NOCTULA\"' '\"C_PIP\"' '\"S_PIP\"']\n",
      " ['1578314054' '0' '16' '0' '0']\n",
      " ['1578313859' '0' '16' '15' '3']\n",
      " ['1578313737' '1' '1' '6' '0']\n",
      " ['1578313540' '0' '16' '15' '3']\n",
      " ['1578313417' '1' '1' '6' '0']] \n",
      "\n",
      "new names:  BLANK\n",
      "new names:  HOUSE_KEYS\n",
      "new names:  NOCTULA\n",
      "new names:  C_PIP\n",
      "new names:  S_PIP\n",
      "new names:  none_yet\n",
      "new names:  none_yet\n",
      "new names:  none_yet\n",
      "new names:  none_yet\n",
      "new names:  none_yet\n",
      "new names:  none_yet\n",
      "\n",
      "This is the total number of columns: 5\n",
      "This is the total number of rows: 6 \n",
      "\n",
      "This is data as string before being transposed: \n",
      " [['\"BLANK\"' '\"HOUSE_KEYS\"' '\"NOCTULA\"' '\"C_PIP\"' '\"S_PIP\"']\n",
      " ['1578314054' '0' '16' '0' '0']\n",
      " ['1578313859' '0' '16' '15' '3']\n",
      " ['1578313737' '1' '1' '6' '0']\n",
      " ['1578313540' '0' '16' '15' '3']\n",
      " ['1578313417' '1' '1' '6' '0']]\n",
      "\n",
      " This is array data after being transposed: \n",
      "[[ 0.  0.  1.  0.  1.  0.  0.  0.  0.  0.]\n",
      " [16. 16.  1. 16.  1.  0.  0.  0.  0.  0.]\n",
      " [ 0. 15.  6. 15.  6.  0.  0.  0.  0.  0.]\n",
      " [ 0.  3.  0.  3.  0.  0.  0.  0.  0.  0.]\n",
      " [ 0.  0.  0.  0.  0.  0.  0.  0.  0.  0.]\n",
      " [ 0.  0.  0.  0.  0.  0.  0.  0.  0.  0.]\n",
      " [ 0.  0.  0.  0.  0.  0.  0.  0.  0.  0.]\n",
      " [ 0.  0.  0.  0.  0.  0.  0.  0.  0.  0.]\n",
      " [ 0.  0.  0.  0.  0.  0.  0.  0.  0.  0.]\n",
      " [ 0.  0.  0.  0.  0.  0.  0.  0.  0.  0.]\n",
      " [ 0.  0.  0.  0.  0.  0.  0.  0.  0.  0.]\n",
      " [ 0.  0.  0.  0.  0.  0.  0.  0.  0.  0.]\n",
      " [ 0.  0.  0.  0.  0.  0.  0.  0.  0.  0.]\n",
      " [ 0.  0.  0.  0.  0.  0.  0.  0.  0.  0.]\n",
      " [ 0.  0.  0.  0.  0.  0.  0.  0.  0.  0.]]\n",
      "\n",
      "\n",
      "\n",
      " This is xt, the x axis time labels:\n",
      "['1578314054' '1578313859' '1578313737' '1578313540' '1578313417']\n",
      "\n",
      "\n",
      "Time:  12:34:14\n",
      "Time:  12:30:59\n",
      "Time:  12:28:57\n",
      "Time:  12:25:40\n",
      "Time:  12:23:37\n",
      "\n",
      "\n",
      "data[2]: [ 0. 15.  6. 15.  6.  0.  0.  0.  0.  0.]\n",
      "data[3]: [0. 3. 0. 3. 0. 0. 0. 0. 0. 0.]\n",
      "data[9]: [0. 0. 0. 0. 0. 0. 0. 0. 0. 0.]\n",
      "data[10]: [0. 0. 0. 0. 0. 0. 0. 0. 0. 0.]\n",
      "data[11]: [0. 0. 0. 0. 0. 0. 0. 0. 0. 0.]\n"
     ]
    },
    {
     "name": "stderr",
     "output_type": "stream",
     "text": [
      "No handles with labels found to put in legend.\n"
     ]
    },
    {
     "data": {
      "image/png": "[encoded data removed]",
      "text/plain": [
       "<Figure size 432x288 with 1 Axes>"
      ]
     },
     "metadata": {
      "needs_background": "light"
     },
     "output_type": "display_data"
    }
   ],
   "source": [
    "import matplotlib.pyplot as plt\n",
    "import numpy as np\n",
    "import pandas as pd\n",
    "import time\n",
    "\n",
    "# infile = '/home/pi/Desktop/deploy_classifier/images/graphical_results/test5.csv'\n",
    "infile = '/home/pi/Desktop/deploy_classifier/From_R_01.csv'\n",
    "\n",
    "bat_names = np.loadtxt(infile, dtype='str', delimiter=',', skiprows = 0, usecols = None)\n",
    "\n",
    "# b = np.zeros((10, 15))\n",
    "# b[:6, :5] = bat_names\n",
    "# bat_names = b\n",
    "# ValueError: could not convert string to float: '\"BLANK\"'\n",
    "\n",
    "print(\"Array bat_names: \",bat_names,\"\\n\")\n",
    "      \n",
    "# print(data.shape)\n",
    "row_count = bat_names.shape[0]  # gives number of row count\n",
    "col_count = bat_names.shape[1]  # gives number of col count\n",
    "\n",
    "\n",
    "bat_names[0,1] = bat_names[0,1].strip('\"\"')\n",
    "# print(\"bat name no. 1: \",bat_names[0,1],\"\\n\")\n",
    "\n",
    "#####################################################################\n",
    "new_bat_names = [None]*11                               # Create a 1D array of 10 new bat names.\n",
    "\n",
    "for x in range(col_count):\n",
    "    bat_names[0,x] = bat_names[0,x].strip('\"\"')\n",
    "    # print(\"bat name: \",bat_names[0,x])\n",
    "# print(\"\\n\")\n",
    "\n",
    "for x in range(col_count):\n",
    "    new_bat_names[x] = bat_names[0,x]\n",
    "    # print(\"new names: \",new_bat_names[x])\n",
    "# print(\"\\n\")\n",
    "\n",
    "# Initially set remainder of bat name labels to \"none_yet\":\n",
    "for x in range(col_count,11):\n",
    "    new_bat_names[x] = \"none_yet\"\n",
    "    # print(\"new names: \",new_bat_names[x])\n",
    "# print(\"\\n\")\n",
    "\n",
    "for x in range(11):\n",
    "    print(\"new names: \",new_bat_names[x])\n",
    "\n",
    "# Now we can use 'new_bat_names' instead of bat_names!!\n",
    "#####################################################################\n",
    "\n",
    "print(\"\\nThis is the total number of columns:\",col_count)\n",
    "print(\"This is the total number of rows:\",row_count,\"\\n\")\n",
    "\n",
    "data = np.loadtxt(infile, dtype='str', delimiter=',', skiprows = 0, usecols = None)\n",
    "print(\"This is data as string before being transposed: \\n\",data)\n",
    "\n",
    "# data = np.genfromtxt(infile, dtype='str', delimiter=',', names=True) \n",
    "\n",
    "data = np.loadtxt(infile, delimiter=',', skiprows = 1, usecols = range(1,col_count))\n",
    "# data = np.loadtxt(infile, delimiter=',', skiprows = 1, usecols = None )\n",
    "data = data.transpose()\n",
    "\n",
    "\n",
    "########################################################\n",
    "b = np.zeros((15, 10))\n",
    "b[:4, :5] = data\n",
    "data = b\n",
    "########################################################\n",
    "\n",
    "# print(\"\\n This is b below: \")\n",
    "# print(b)\n",
    "\n",
    "\n",
    "print(\"\\n This is array data after being transposed: \")\n",
    "print(data)\n",
    "print(\"\\n\")\n",
    "# df = pd.DataFrame(np.arange(12).reshape(4,3))\n",
    "\n",
    "# import the tick labels\n",
    "xt = np.loadtxt(infile, dtype='str', delimiter=',', skiprows = 1, usecols = (0,))\n",
    "print(\"\\n This is xt, the x axis time labels:\")\n",
    "print(xt)\n",
    "print(\"\\n\")\n",
    "\n",
    "for x in range(row_count-1):\n",
    "    z = int(xt[x])\n",
    "    xt[x] = time.strftime('%H:%M:%S', time.localtime(z))\n",
    "    print(\"Time: \", xt[x] )\n",
    "print(\"\\n\")\n",
    "\n",
    "\n",
    "# print(data.shape)\n",
    "# row_count = data.shape[0]  # gives number of row count\n",
    "col_count = data.shape[1]  # gives number of col count\n",
    "\n",
    "\n",
    "width = 0.55\n",
    "# ind = np.arange(11) + 0.75\n",
    "ind = np.arange(col_count) + 0.75                             # We need to know the number of rows of data!\n",
    "\n",
    "\n",
    "print(\"data[2]:\",data[2])\n",
    "print(\"data[3]:\",data[3])\n",
    "print(\"data[9]:\",data[9])\n",
    "print(\"data[10]:\",data[10])\n",
    "print(\"data[11]:\",data[11])\n",
    "\n",
    "fig, ax = plt.subplots(1,1)\n",
    "p0 = ax.bar(ind, data[0], width, color = 'cyan')\n",
    "p1 = ax.bar(ind, data[1], width, bottom = data[0], color = 'violet')\n",
    "p2 = ax.bar(ind, data[2], width, bottom = data[0] + data[1], color = 'green')\n",
    "p3 = ax.bar(ind, data[3], width, bottom = data[0] + data[1] + data[2], color = 'red')\n",
    "p4 = ax.bar(ind, data[4], width, bottom = data[0] + data[1] + data[2]  + data[3] , color = 'blue')\n",
    "p5=ax.bar(ind,data[5],width,bottom=data[0]+data[1]+data[2]+data[3]+data[4] ,color='yellow')\n",
    "p6=ax.bar(ind,data[6],width,bottom=data[0]+data[1]+data[2]+data[3]+data[4]+data[5]  ,color='plum')\n",
    "p7=ax.bar(ind,data[7],width,bottom=data[0]+data[1]+data[2]+data[3]+data[4]+data[5]+data[6]  ,color='salmon')\n",
    "p8=ax.bar(ind,data[8],width,bottom=data[0]+data[1]+data[2]+data[3]+data[4]+data[5]+data[6]+data[7]  ,color='magenta')\n",
    "p9=ax.bar(ind,data[9],width,bottom=data[0]+data[1]+data[2]+data[3]+data[4]+data[5]+data[6]+data[7]+data[8]  ,color='brown')\n",
    "p10=ax.bar(ind,data[10],width,bottom=data[0]+data[1]+data[2]+data[3]+data[4]+data[5]+data[6]+data[7]+data[8]+data[9]  ,color='orange')\n",
    "\n",
    "ax.set_ylabel('frequency (per hour)')\n",
    "# ax.set_xlabel('hour of the day')\n",
    "ax.set_xticks (ind + width/2.)\n",
    "ax.set_xticklabels( xt, rotation = 45 )                       # This is where the x axis labels are set.\n",
    "\n",
    "\n",
    "\n",
    "# fig.legend( (p0[0], p1[0], p2[0], p3[0]), ('c_pip', 's_pip', 'n_pip', 'noctule') )\n",
    "# fig.legend( (p0[0], p1[0], p2[0]), (bat_names[0,1], bat_names[0,2], bat_names[0,3]) )\n",
    "\n",
    "# fig.legend( (p0[0], p1[0], p2[0], p3[0]), (new_bat_names[1],\n",
    "#                new_bat_names[2], new_bat_names[3], new_bat_names[4]) )\n",
    "\n",
    "fig.legend( (p0[0], p1[0], p2[0], p3[0] , p4[0], p5[0], p6[0], p7[0], p8[0], p9[0]  ), \n",
    "           (new_bat_names[1], new_bat_names[2], new_bat_names[3], new_bat_names[4], new_bat_names[5], new_bat_names[6] , new_bat_names[7] , new_bat_names[8] , new_bat_names[9] , new_bat_names[10] ) )\n",
    "\n",
    "\n",
    "fig.legend(loc=(1.15, 0.6))\n",
    "figsize=(10,8)\n",
    "fig.tight_layout()\n",
    "# fig.show()\n",
    "plt.savefig('/home/pi/Desktop/deploy_classifier/images/graphical_results/graph.png', bbox_inches='tight')"
   ]
  },
  {
   "cell_type": "code",
   "execution_count": null,
   "metadata": {},
   "outputs": [],
   "source": [
    "import matplotlib.pyplot as plt\n",
    "import numpy as np\n",
    "import pandas as pd\n",
    "\n",
    "# infile = '/home/pi/Desktop/deploy_classifier/images/graphical_results/test5.csv'\n",
    "infile = '/home/pi/Desktop/deploy_classifier/From_R_01.csv'\n",
    "\n",
    "xt = np.loadtxt(infile, dtype='str', delimiter=',', skiprows = 0, usecols = None)\n",
    "print(xt)\n",
    "\n",
    "# print(data.shape)\n",
    "count_row = xt.shape[0]  # gives number of row count\n",
    "count_col = xt.shape[1]  # gives number of col count\n",
    "\n",
    "print(\"This is the number of rows:\",count_row)\n",
    "print(\"This is the number of columns:\",count_col)\n",
    "\n",
    "# ValueError: could not convert string to float: '\"HOUSE_KEYS\"'\n",
    "print(data)\n",
    "\n",
    "\n",
    "data = np.loadtxt(infile, delimiter=',', skiprows = 1, usecols = range(1,4))\n",
    "data = data.transpose()\n",
    "\n",
    "# print(data)\n",
    "\n",
    "# df = pd.DataFrame(np.arange(12).reshape(4,3))\n",
    "\n",
    "# import the tick labels\n",
    "# xt = np.loadtxt(infile, dtype='str', delimiter=',', skiprows = 0, usecols = (0,2))\n",
    "xt = np.loadtxt(infile, dtype='str', delimiter=',', skiprows = 0, usecols = None)\n",
    "print(xt)\n",
    "\n",
    "# print(data.shape)\n",
    "count_row = data.shape[0]  # gives number of row count\n",
    "count_col = data.shape[1]  # gives number of col count\n",
    "\n",
    "print(count_row)\n",
    "print(count_col)\n",
    "\n",
    "# print(data[:,0])\n",
    "\n",
    "width = 0.55\n",
    "# ind = np.arange(11) + 0.75\n",
    "ind = np.arange(count_col) + 0.75                             # We need to know the number of rows of data!\n",
    "\n",
    "fig, ax = plt.subplots(1,1)\n",
    "p0 = ax.bar(ind, data[0], width, color = 'cyan')\n",
    "p1 = ax.bar(ind, data[1], width, bottom = data[0], color = 'violet')\n",
    "p2 = ax.bar(ind, data[2], width, bottom = data[0] + data[1], color = 'g')\n",
    "# p3 = ax.bar(ind, data[3], width, bottom = data[0] + data[1] + data[2], color = 'r')\n",
    "\n",
    "ax.set_ylabel('frequency (per hour)')\n",
    "# ax.set_xlabel('hour of the day')\n",
    "ax.set_xticks (ind + width/2.)\n",
    "ax.set_xticklabels( xt, rotation = 45 )\n",
    "\n",
    "# fig.legend( (p0[0], p1[0], p2[0], p3[0]), ('c_pip', 's_pip', 'n_pip', 'noctule') )\n",
    "fig.legend( (p0[0], p1[0], p2[0]), ('c_pip', 's_pip', 'n_pip') )\n",
    "\n",
    "fig.legend(loc=(1.15, 0.7))\n",
    "figsize=(10,8)\n",
    "fig.tight_layout()\n",
    "# fig.show()\n",
    "plt.savefig('/home/pi/Desktop/deploy_classifier/images/graphical_results/graph.png', bbox_inches='tight')"
   ]
  },
  {
   "cell_type": "code",
   "execution_count": 5,
   "metadata": {},
   "outputs": [
    {
     "ename": "AttributeError",
     "evalue": "'str' object has no attribute 'groupby'",
     "output_type": "error",
     "traceback": [
      "\u001b[0;31m---------------------------------------------------------------------------\u001b[0m",
      "\u001b[0;31mAttributeError\u001b[0m                            Traceback (most recent call last)",
      "\u001b[0;32m<ipython-input-5-a5d65ebcc905>\u001b[0m in \u001b[0;36m<module>\u001b[0;34m\u001b[0m\n\u001b[1;32m      6\u001b[0m \u001b[0minfile\u001b[0m \u001b[0;34m=\u001b[0m \u001b[0;34m'/home/pi/Desktop/deploy_classifier/images/graphical_results/test4.csv'\u001b[0m\u001b[0;34m\u001b[0m\u001b[0;34m\u001b[0m\u001b[0m\n\u001b[1;32m      7\u001b[0m \u001b[0;34m\u001b[0m\u001b[0m\n\u001b[0;32m----> 8\u001b[0;31m \u001b[0mprint\u001b[0m\u001b[0;34m(\u001b[0m\u001b[0minfile\u001b[0m\u001b[0;34m.\u001b[0m\u001b[0mgroupby\u001b[0m\u001b[0;34m(\u001b[0m\u001b[0;34m[\u001b[0m\u001b[0;34m'address'\u001b[0m\u001b[0;34m,\u001b[0m \u001b[0minfile\u001b[0m\u001b[0;34m[\u001b[0m\u001b[0;34m'used_at'\u001b[0m\u001b[0;34m]\u001b[0m\u001b[0;34m.\u001b[0m\u001b[0mdt\u001b[0m\u001b[0;34m.\u001b[0m\u001b[0myear\u001b[0m\u001b[0;34m]\u001b[0m\u001b[0;34m)\u001b[0m\u001b[0;34m.\u001b[0m\u001b[0mactive_seconds\u001b[0m\u001b[0;34m.\u001b[0m\u001b[0msum\u001b[0m\u001b[0;34m(\u001b[0m\u001b[0;34m)\u001b[0m\u001b[0;34m)\u001b[0m\u001b[0;34m\u001b[0m\u001b[0;34m\u001b[0m\u001b[0m\n\u001b[0m\u001b[1;32m      9\u001b[0m \u001b[0;34m\u001b[0m\u001b[0m\n\u001b[1;32m     10\u001b[0m \u001b[0;31m# df = infile.groupby(['address', infile['used_at'].dt.year]).active_seconds.sum()\u001b[0m\u001b[0;34m\u001b[0m\u001b[0;34m\u001b[0m\u001b[0;34m\u001b[0m\u001b[0m\n",
      "\u001b[0;31mAttributeError\u001b[0m: 'str' object has no attribute 'groupby'"
     ]
    }
   ],
   "source": [
    "import matplotlib.pyplot as plt; plt.rcdefaults()\n",
    "import numpy as np\n",
    "import matplotlib.pyplot as plt\n",
    "import pandas\n",
    "\n",
    "infile = '/home/pi/Desktop/deploy_classifier/images/graphical_results/test4.csv'\n",
    "\n",
    "print(infile.groupby(['address', infile['used_at'].dt.year]).active_seconds.sum())\n",
    "\n",
    "# df = infile.groupby(['address', infile['used_at'].dt.year]).active_seconds.sum()\n",
    "\n",
    "graph_by_duration = df.pivot(index='address', columns='used_at', values='active_seconds')\n",
    "print (graph_by_duration)\n",
    "\n",
    "\n",
    "ax = graph_by_duration.plot.bar(figsize=(10,8))\n",
    "ax.set_ylabel('Time online')\n",
    "ax.set_title('Time spent online per web site, per year')\n",
    "plt.show()"
   ]
  },
  {
   "cell_type": "code",
   "execution_count": 107,
   "metadata": {},
   "outputs": [
    {
     "data": {
      "image/png": "[encoded data removed]",
      "text/plain": [
       "<Figure size 640x480 with 1 Axes>"
      ]
     },
     "metadata": {},
     "output_type": "display_data"
    }
   ],
   "source": [
    "import matplotlib.pyplot as plt; plt.rcdefaults()\n",
    "import numpy as np\n",
    "import matplotlib.pyplot as plt\n",
    "\n",
    "file8 = '/home/pi/Desktop/deploy_classifier/images/graphical_results/batFreq.csv'\n",
    "\n",
    "objects = ('Python', 'C++', 'Java', 'Perl', 'Scala', 'Lisp')\n",
    "y_pos = np.arange(len(objects))\n",
    "performance = [10,8,6,4,2,1]\n",
    "\n",
    "plt.bar(y_pos, performance, align='center', alpha=0.5)\n",
    "plt.xticks(y_pos, objects)\n",
    "plt.ylabel('Usage')\n",
    "plt.title('Programming language usage')\n",
    "\n",
    "plt.show()"
   ]
  },
  {
   "cell_type": "code",
   "execution_count": 105,
   "metadata": {},
   "outputs": [
    {
     "name": "stdout",
     "output_type": "stream",
     "text": [
      "[[5. 7. 1.]]\n"
     ]
    },
    {
     "data": {
      "image/png": "[encoded data removed]",
      "text/plain": [
       "<Figure size 576x216 with 1 Axes>"
      ]
     },
     "metadata": {
      "needs_background": "light"
     },
     "output_type": "display_data"
    }
   ],
   "source": [
    "\n",
    "\n",
    "import matplotlib.pyplot as plt\n",
    "import numpy as np\n",
    "np.random.seed(444)\n",
    "\n",
    "file8 = '/home/pi/Desktop/deploy_classifier/images/graphical_results/batFreq.csv'\n",
    "\n",
    "c_pip = np.loadtxt(file8, delimiter=',', skiprows=1, usecols=(0))\n",
    "s_pip = np.loadtxt(file8, delimiter=',', skiprows=1, usecols=(1))\n",
    "n_pip = np.loadtxt(file8, delimiter=',', skiprows=1, usecols=(2))\n",
    "\n",
    "data = np.column_stack((c_pip, s_pip, n_pip))\n",
    "\n",
    "print(data)\n",
    "\n",
    "# data = [c_pip, s_pip, n_pip]\n",
    "# plt.hist(x, bins = number of bins)\n",
    "\n",
    "fig, (ax2) = plt.subplots(nrows=1, ncols=1, figsize=(8, 3))\n",
    "\n",
    "\n",
    "# ax2.hist(data, bins=np.arange(data.min(), data.max()), label=('c_pip', 's_pip', 'n_pip'))\n",
    "ax2.hist(data, bins=10, label=('c_pip', 's_pip', 'n_pip'))\n",
    "ax2.legend(loc=(1.1, 0.7))\n",
    "ax2.set_title('Frequencies of Bats')\n",
    "ax2.yaxis.tick_right()\n",
    "\n",
    "plt.savefig('/home/pi/Desktop/deploy_classifier/images/graphical_results/graph.png', bbox_inches='tight')"
   ]
  },
  {
   "cell_type": "code",
   "execution_count": null,
   "metadata": {},
   "outputs": [],
   "source": []
  },
  {
   "cell_type": "code",
   "execution_count": 85,
   "metadata": {},
   "outputs": [
    {
     "name": "stdout",
     "output_type": "stream",
     "text": [
      "[362.25       366.31666667 370.8        376.23333333 379.46666667\n",
      " 380.25       382.68333333 385.16666667 388.65      ]\n",
      "[11.1 12.2 13.3 14.4 15.2 16.4 17.2 18.6 19.7]\n",
      "[[362.25        11.1       ]\n",
      " [366.31666667  12.2       ]\n",
      " [370.8         13.3       ]\n",
      " [376.23333333  14.4       ]\n",
      " [379.46666667  15.2       ]\n",
      " [380.25        16.4       ]\n",
      " [382.68333333  17.2       ]\n",
      " [385.16666667  18.6       ]\n",
      " [388.65        19.7       ]]\n"
     ]
    },
    {
     "data": {
      "image/png": "[encoded data removed]",
      "text/plain": [
       "<Figure size 576x216 with 2 Axes>"
      ]
     },
     "metadata": {
      "needs_background": "light"
     },
     "output_type": "display_data"
    }
   ],
   "source": [
    "import matplotlib.pyplot as plt\n",
    "import numpy as np\n",
    "\n",
    "file7 = '/home/pi/Desktop/deploy_classifier/images/graphical_results/test2columns.csv'\n",
    "\n",
    "\n",
    "def time2float_minutes(time):\n",
    "    if type(time) == bytes:\n",
    "        time = time.decode()\n",
    "    t = time.split(\":\")\n",
    "    minutes = float(t[0])*60 + float(t[1]) + float(t[2]) * 0.05 / 3\n",
    "    return minutes\n",
    "\n",
    "# for t in [\"06:00:10\", \"06:27:45\", \"12:59:59\"]:\n",
    "    # print(time2float_minutes(t))\n",
    "    \n",
    "# y = np.loadtxt(file7, converters={ 0: time2float_minutes})\n",
    "# print(y)\n",
    "\n",
    "# converters = {0: lambda s: float(s.strip('\"'))}\n",
    "# data = np.loadtxt(file7, delimiter=',', skiprows=1, converters=converters)\n",
    "\n",
    "# data = np.loadtxt(file7, delimiter=',', skiprows=1, usecols=range(1,15))\n",
    "\n",
    "x = np.loadtxt(file7, converters={ 0: time2float_minutes}, delimiter=',', skiprows=1, usecols=(0))\n",
    "y = np.loadtxt(file7, delimiter=',', skiprows=1, usecols=(1))\n",
    "\n",
    "print(dataX)\n",
    "print(dataY)\n",
    "\n",
    "data = np.column_stack((x, y))\n",
    "print(data)\n",
    "\n",
    "fig, (ax1, ax2) = plt.subplots(nrows=1, ncols=2, figsize=(8, 3))\n",
    "\n",
    "ax1.scatter(x=x, y=y, marker='o', c='r', edgecolor='b')\n",
    "ax1.set_title('Scatter: $x$ versus $y$')\n",
    "ax1.set_xlabel('$x$')\n",
    "ax1.set_ylabel('$y$')\n",
    "\n",
    "ax2.hist(data, bins=np.arange(data.min(), data.max()), label=('x', 'y'))\n",
    "ax2.legend(loc=(0.65, 0.8))\n",
    "ax2.set_title('Frequencies of $x$ and $y$')\n",
    "ax2.yaxis.tick_right()\n",
    "\n",
    "plt.savefig('/home/pi/Desktop/deploy_classifier/images/graphical_results/graph.png', bbox_inches='tight')\n",
    "\n",
    "\n"
   ]
  },
  {
   "cell_type": "code",
   "execution_count": 62,
   "metadata": {},
   "outputs": [
    {
     "name": "stdout",
     "output_type": "stream",
     "text": [
      "2015-01-01 00:00:00+09:00\n",
      "2015-01-02 00:00:00+09:00\n",
      "2015-01-03 00:00:00+09:00\n",
      "2015-01-04 00:00:00+09:00\n"
     ]
    }
   ],
   "source": [
    "import datetime\n",
    "from datetimerange import DateTimeRange\n",
    "\n",
    "time_range = DateTimeRange(\"2015-01-01T00:00:00+0900\", \"2015-01-04T00:00:00+0900\")\n",
    "for value in time_range.range(datetime.timedelta(days=1)):\n",
    "    print (value)"
   ]
  },
  {
   "cell_type": "code",
   "execution_count": 59,
   "metadata": {},
   "outputs": [
    {
     "name": "stdout",
     "output_type": "stream",
     "text": [
      "[[1. 3.]\n",
      " [4. 6.]\n",
      " [7. 9.]]\n"
     ]
    }
   ],
   "source": [
    "import numpy as np\n",
    "\n",
    "file6 = '/home/pi/Desktop/deploy_classifier/images/graphical_results/test3.txt'\n",
    "\n",
    "x = np.array([[1, 2, 3], \n",
    "              [4, 5, 6],\n",
    "              [7, 8, 9]], np.int32)\n",
    "\n",
    "np.savetxt(file6, x)\n",
    "\n",
    "# np.savetxt(file6, x, fmt=\"%2.3f\", delimiter=\",\")\n",
    "# np.savetxt(file6, x, fmt=\"%04d\", delimiter=\" :-) \")\n",
    "\n",
    "y = np.loadtxt(file6, usecols=(0,2))\n",
    "print(y)\n",
    "\n"
   ]
  },
  {
   "cell_type": "code",
   "execution_count": 68,
   "metadata": {},
   "outputs": [
    {
     "name": "stdout",
     "output_type": "stream",
     "text": [
      "[ 1  4  7 10 13 16 19 22 25 28]\n",
      "[1951 1954 1957 1960 1963 1966 1969 1972 1975 1978]\n",
      "[10.3 11.1 12.2 13.3 14.4 15.2 16.4 17.2 18.6 19.7]\n"
     ]
    },
    {
     "data": {
      "image/png": "[encoded data removed]",
      "text/plain": [
       "<Figure size 576x216 with 1 Axes>"
      ]
     },
     "metadata": {
      "needs_background": "light"
     },
     "output_type": "display_data"
    }
   ],
   "source": [
    "import matplotlib.pyplot as plt\n",
    "import numpy as np\n",
    "np.random.seed(444)\n",
    "\n",
    "# file5 = '/home/pi/Desktop/deploy_classifier/images/graphical_results/test.txt'\n",
    "file5 = '/home/pi/Desktop/deploy_classifier/images/graphical_results/test.csv'\n",
    "\n",
    "# rng = np.arange(10)\n",
    "rng = np.arange(1, 29, 3)\n",
    "c = np.loadtxt(file5,skiprows=1)                       # Skip the first row as it is text.\n",
    "\n",
    "# e = np.loadtxt(file5, dtype ={'names': ('c_pip', 'time'), 'formats': ('f4', 'i4')}) \n",
    "# e\n",
    "\n",
    "rnd = np.random.randint(0, 10, size=(3, rng.size))\n",
    "yrs = 1950 + rng\n",
    "\n",
    "print(rng)\n",
    "print(yrs)\n",
    "print(c)\n",
    "\n",
    "fig, ax = plt.subplots(figsize=(8, 3))\n",
    "ax.stackplot(yrs, c + rnd, labels=['Eastasia', 'Eurasia', 'Oceania'])\n",
    "\n",
    "\n",
    "ax.set_title('Combined debt growth over time')\n",
    "ax.legend(loc='upper left')\n",
    "ax.set_ylabel('Total debt')\n",
    "ax.set_xlim(xmin=yrs[0], xmax=yrs[-1])\n",
    "fig.tight_layout()\n",
    "\n",
    "plt.savefig('/home/pi/Desktop/deploy_classifier/images/graphical_results/graph.png', bbox_inches='tight')\n",
    "\n",
    "# converters : A dictionary mapping column number to a function that will convert that column to a float.\n",
    "# E.g., if column 0 is a date string: converters = {0: datestr2num}. Default: None."
   ]
  },
  {
   "cell_type": "code",
   "execution_count": 6,
   "metadata": {},
   "outputs": [
    {
     "data": {
      "image/png": "[encoded data removed]",
      "text/plain": [
       "<Figure size 468x396 with 1 Axes>"
      ]
     },
     "metadata": {
      "needs_background": "light"
     },
     "output_type": "display_data"
    }
   ],
   "source": [
    "import matplotlib.pyplot as plt\n",
    "import os\n",
    "import sys\n",
    "\n",
    "plt.rcParams['figure.figsize'] = [6.5, 5.5]\n",
    "\n",
    "plt.plot([1, 2, 3, 4], [10, 20, 25, 30], color='lightblue', linewidth=3)\n",
    "plt.scatter([0.3, 3.8, 1.2, 2.5], [11, 25, 9, 26], color='darkgreen', marker='^')\n",
    "\n",
    "\n",
    "plt.xlim(0.1, 5.5)\n",
    "\n",
    "\n",
    "plt.subplot(211)\n",
    "\n",
    "# plt.xlabel('Time, seconds')\n",
    "# plt.ylabel('Frequency')\n",
    "plt.savefig('/home/pi/Desktop/deploy_classifier/images/graphical_results/graph.png', bbox_inches='tight')\n",
    "plt.show()"
   ]
  },
  {
   "cell_type": "code",
   "execution_count": 89,
   "metadata": {},
   "outputs": [
    {
     "name": "stdout",
     "output_type": "stream",
     "text": [
      "[[ 4  5  5]\n",
      " [ 1  4  5]\n",
      " [ 8 11  9]\n",
      " [ 9 13 10]\n",
      " [ 4  7  7]\n",
      " [ 5  8  8]\n",
      " [ 8 11  9]\n",
      " [ 7 11 10]\n",
      " [ 9 10 13]\n",
      " [10 13 14]]\n"
     ]
    },
    {
     "data": {
      "image/png": "[encoded data removed]",
      "text/plain": [
       "<Figure size 576x216 with 2 Axes>"
      ]
     },
     "metadata": {
      "needs_background": "light"
     },
     "output_type": "display_data"
    }
   ],
   "source": [
    "import matplotlib.pyplot as plt\n",
    "import numpy as np\n",
    "np.random.seed(444)\n",
    "\n",
    "file8 = '/home/pi/Desktop/deploy_classifier/images/graphical_results/batFreq.csv'\n",
    "\n",
    "x = np.random.randint(low=1, high=11, size=10)\n",
    "y = x + np.random.randint(1, 5, size=x.size)\n",
    "z = x + np.random.randint(1, 5, size=x.size)\n",
    "data = np.column_stack((x, y, z))\n",
    "print(data)\n",
    "\n",
    "fig, (ax1, ax2) = plt.subplots(nrows=1, ncols=2, figsize=(8, 3))\n",
    "\n",
    "ax1.scatter(x=x, y=y, marker='o', c='r', edgecolor='b')\n",
    "ax1.set_title('Scatter: $x$ versus $y$')\n",
    "ax1.set_xlabel('$x$')\n",
    "ax1.set_ylabel('$y$')\n",
    "\n",
    "ax2.hist(data, bins=np.arange(data.min(), data.max()), label=('x', 'y', 'z'))\n",
    "ax2.legend(loc=(1.2, 0.8))\n",
    "ax2.set_title('Frequencies of $x$ and $y$')\n",
    "ax2.yaxis.tick_right()\n",
    "\n",
    "plt.savefig('/home/pi/Desktop/deploy_classifier/images/graphical_results/graph.png', bbox_inches='tight')"
   ]
  },
  {
   "cell_type": "code",
   "execution_count": 40,
   "metadata": {},
   "outputs": [
    {
     "name": "stdout",
     "output_type": "stream",
     "text": [
      "[ 1  4  7 10 13 16 19 22 25 28]\n",
      "[1951 1954 1957 1960 1963 1966 1969 1972 1975 1978]\n"
     ]
    },
    {
     "data": {
      "image/png": "[encoded data removed]",
      "text/plain": [
       "<Figure size 576x216 with 1 Axes>"
      ]
     },
     "metadata": {
      "needs_background": "light"
     },
     "output_type": "display_data"
    }
   ],
   "source": [
    "import matplotlib.pyplot as plt\n",
    "import numpy as np\n",
    "np.random.seed(444)\n",
    "\n",
    "file5 = '/home/pi/Desktop/deploy_classifier/images/graphical_results/test.txt'\n",
    "\n",
    "# rng = np.arange(10)\n",
    "rng = np.arange(1, 29, 3)\n",
    "c = np.loadtxt(file5)\n",
    "rnd = np.random.randint(0, 10, size=(3, rng.size))\n",
    "yrs = 1950 + rng\n",
    "\n",
    "print(rng)\n",
    "print(yrs)\n",
    "\n",
    "fig, ax = plt.subplots(figsize=(8, 3))\n",
    "ax.stackplot(yrs, c + rnd, labels=['Eastasia', 'Eurasia', 'Oceania'])\n",
    "\n",
    "\n",
    "ax.set_title('Combined debt growth over time')\n",
    "ax.legend(loc='upper left')\n",
    "ax.set_ylabel('Total debt')\n",
    "ax.set_xlim(xmin=yrs[0], xmax=yrs[-1])\n",
    "fig.tight_layout()\n",
    "\n",
    "plt.savefig('/home/pi/Desktop/deploy_classifier/images/graphical_results/graph.png', bbox_inches='tight')"
   ]
  },
  {
   "cell_type": "code",
   "execution_count": 20,
   "metadata": {},
   "outputs": [
    {
     "data": {
      "text/plain": [
       "array([ 1,  4,  7, 10, 13, 16, 19, 22, 25, 28])"
      ]
     },
     "execution_count": 20,
     "metadata": {},
     "output_type": "execute_result"
    }
   ],
   "source": [
    "import matplotlib.pyplot as plt\n",
    "import numpy as np\n",
    "np.random.seed(444)\n",
    "\n",
    "np.arange(1, 29, 3)"
   ]
  },
  {
   "cell_type": "code",
   "execution_count": 39,
   "metadata": {},
   "outputs": [
    {
     "name": "stdout",
     "output_type": "stream",
     "text": [
      "10.1\n",
      "\n",
      "[10.1 11.1 12.2 13.3 14.4 15.5 16.6 17.7 18.8 19.9 10.  11.  12. ]\n"
     ]
    }
   ],
   "source": [
    "import numpy\n",
    "import os\n",
    "import sys\n",
    "from pylab import *\n",
    "\n",
    "file5 = '/home/pi/Desktop/deploy_classifier/images/graphical_results/test.txt'\n",
    "c = np.loadtxt(file5)\n",
    " \n",
    "a = numpy.array([1, 2, 3])\n",
    "b = 14\n",
    " \n",
    "# newArray = numpy.append (a, [10, 11, 12])\n",
    "# newArray = numpy.append (text, [10, 11, 12])\n",
    "\n",
    "\n",
    "\n",
    "\n",
    "c\n",
    "\n",
    "newArray = numpy.append (c, [10, 11, 12])\n",
    "\n",
    "print(newArray)"
   ]
  },
  {
   "cell_type": "code",
   "execution_count": null,
   "metadata": {},
   "outputs": [],
   "source": []
  }
 ],
 "metadata": {
  "kernelspec": {
   "display_name": "Python 3",
   "language": "python",
   "name": "python3"
  },
  "language_info": {
   "codemirror_mode": {
    "name": "ipython",
    "version": 3
   },
   "file_extension": ".py",
   "mimetype": "text/x-python",
   "name": "python",
   "nbconvert_exporter": "python",
   "pygments_lexer": "ipython3",
   "version": "3.7.3"
  }
 },
 "nbformat": 4,
 "nbformat_minor": 2
}
